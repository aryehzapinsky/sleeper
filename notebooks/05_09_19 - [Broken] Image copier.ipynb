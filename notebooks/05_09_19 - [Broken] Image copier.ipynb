{
 "cells": [
  {
   "cell_type": "code",
   "execution_count": 1,
   "metadata": {},
   "outputs": [],
   "source": [
    "import pathlib\n",
    "import os\n",
    "import shutil"
   ]
  },
  {
   "cell_type": "code",
   "execution_count": 17,
   "metadata": {},
   "outputs": [],
   "source": [
    "#photos_path = pathlib.Path(\"/Volumes/NO NAME/sleeper/photos_other_models/going_to_sleep\")\n",
    "#photos_path = pathlib.Path(\"/Volumes/NO NAME/sleeper/photos_other_models/getting_up_images\")\n",
    "#photos_path = pathlib.Path(\"/Volumes/NO NAME/sleeper/photos_other_models/bed_images\")"
   ]
  },
  {
   "cell_type": "code",
   "execution_count": 18,
   "metadata": {},
   "outputs": [],
   "source": [
    "photos = sorted(photos_path.iterdir())\n",
    "for i,photo in enumerate(photos):\n",
    "    photo_num = \"{:06}.jpg\".format(i)\n",
    "    os.rename(photo, photo.with_name(photo_num))"
   ]
  },
  {
   "cell_type": "code",
   "execution_count": 23,
   "metadata": {},
   "outputs": [],
   "source": [
    "sleep_path = pathlib.Path(\"/Volumes/NO NAME/sleeper/photos_other_models/going_to_sleep\")\n",
    "up_path = pathlib.Path(\"/Volumes/NO NAME/sleeper/photos_other_models/getting_up_images\")\n",
    "bed_path = pathlib.Path(\"/Volumes/NO NAME/sleeper/photos_other_models/bed_images\")\n",
    "photos_path = pathlib.Path(\"/Volumes/NO NAME/sleeper/photos/\")"
   ]
  },
  {
   "cell_type": "code",
   "execution_count": 32,
   "metadata": {},
   "outputs": [],
   "source": [
    "j = 0\n",
    "\n",
    "for photos_folder in photos_path.iterdir():\n",
    "    for photos in photos_folder.iterdir():\n",
    "        if photos.is_dir():\n",
    "            name = photos.name\n",
    "            folder = None\n",
    "            if name == \"going_to_sleep\":\n",
    "                folder = sleep_path\n",
    "            elif name == \"getting_up_images\":\n",
    "                folder = up_path\n",
    "            elif name == \"bed_images\":\n",
    "                folder = bed_path\n",
    "                \n",
    "            for file in photos.iterdir():\n",
    "                print(file)\n",
    "                print(folder.joinpath(\"copied-{:06}.jpg\".format(j)))\n",
    "                if file.name[0] == \".\":\n",
    "                    continue\n",
    "                #shutil.move(file, folder.with_name(\"copied-{:06}.jpg\".format(i)))\n",
    "                j+=1"
   ]
  },
  {
   "cell_type": "code",
   "execution_count": null,
   "metadata": {},
   "outputs": [],
   "source": []
  }
 ],
 "metadata": {
  "kernelspec": {
   "display_name": "Python (sleeper)",
   "language": "python",
   "name": "sleeper"
  },
  "language_info": {
   "codemirror_mode": {
    "name": "ipython",
    "version": 3
   },
   "file_extension": ".py",
   "mimetype": "text/x-python",
   "name": "python",
   "nbconvert_exporter": "python",
   "pygments_lexer": "ipython3",
   "version": "3.6.5"
  }
 },
 "nbformat": 4,
 "nbformat_minor": 2
}
